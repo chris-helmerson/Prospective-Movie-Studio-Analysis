{
 "cells": [
  {
   "cell_type": "markdown",
   "metadata": {},
   "source": [
    "# NICKs condensed notebook"
   ]
  },
  {
   "cell_type": "code",
   "execution_count": 2,
   "metadata": {},
   "outputs": [],
   "source": [
    "import pandas as pd\n",
    "import numpy as np\n",
    "import csv\n",
    "import matplotlib.pyplot as plt\n",
    "import sqlite3\n",
    "%matplotlib inline"
   ]
  },
  {
   "cell_type": "code",
   "execution_count": null,
   "metadata": {},
   "outputs": [],
   "source": [
    "#extract IMDB movie basics table from SQL database"
   ]
  },
  {
   "cell_type": "code",
   "execution_count": 13,
   "metadata": {},
   "outputs": [
    {
     "name": "stdout",
     "output_type": "stream",
     "text": [
      "C:\\Users\\Nick\\Documents\\Flatiron\\phase_1\\project\\gitrepo\\microsoft-movie-analysis-ncs\n"
     ]
    }
   ],
   "source": [
    "!cd"
   ]
  },
  {
   "cell_type": "code",
   "execution_count": 22,
   "metadata": {},
   "outputs": [],
   "source": [
    "conn = sqlite3.connect('C:/Users/Nick/Documents/Flatiron/phase_1/project/data/im.db')"
   ]
  },
  {
   "cell_type": "code",
   "execution_count": 23,
   "metadata": {},
   "outputs": [],
   "source": [
    "movie_basics_df = pd.read_sql(\"\"\"\n",
    "SELECT * \n",
    "FROM movie_basics\n",
    "\"\"\",conn )"
   ]
  },
  {
   "cell_type": "code",
   "execution_count": 24,
   "metadata": {},
   "outputs": [
    {
     "data": {
      "text/html": [
       "<div>\n",
       "<style scoped>\n",
       "    .dataframe tbody tr th:only-of-type {\n",
       "        vertical-align: middle;\n",
       "    }\n",
       "\n",
       "    .dataframe tbody tr th {\n",
       "        vertical-align: top;\n",
       "    }\n",
       "\n",
       "    .dataframe thead th {\n",
       "        text-align: right;\n",
       "    }\n",
       "</style>\n",
       "<table border=\"1\" class=\"dataframe\">\n",
       "  <thead>\n",
       "    <tr style=\"text-align: right;\">\n",
       "      <th></th>\n",
       "      <th>movie_id</th>\n",
       "      <th>primary_title</th>\n",
       "      <th>original_title</th>\n",
       "      <th>start_year</th>\n",
       "      <th>runtime_minutes</th>\n",
       "      <th>genres</th>\n",
       "    </tr>\n",
       "  </thead>\n",
       "  <tbody>\n",
       "    <tr>\n",
       "      <th>0</th>\n",
       "      <td>tt0063540</td>\n",
       "      <td>Sunghursh</td>\n",
       "      <td>Sunghursh</td>\n",
       "      <td>2013</td>\n",
       "      <td>175.0</td>\n",
       "      <td>Action,Crime,Drama</td>\n",
       "    </tr>\n",
       "    <tr>\n",
       "      <th>1</th>\n",
       "      <td>tt0066787</td>\n",
       "      <td>One Day Before the Rainy Season</td>\n",
       "      <td>Ashad Ka Ek Din</td>\n",
       "      <td>2019</td>\n",
       "      <td>114.0</td>\n",
       "      <td>Biography,Drama</td>\n",
       "    </tr>\n",
       "  </tbody>\n",
       "</table>\n",
       "</div>"
      ],
      "text/plain": [
       "    movie_id                    primary_title   original_title  start_year  \\\n",
       "0  tt0063540                        Sunghursh        Sunghursh        2013   \n",
       "1  tt0066787  One Day Before the Rainy Season  Ashad Ka Ek Din        2019   \n",
       "\n",
       "   runtime_minutes              genres  \n",
       "0            175.0  Action,Crime,Drama  \n",
       "1            114.0     Biography,Drama  "
      ]
     },
     "execution_count": 24,
     "metadata": {},
     "output_type": "execute_result"
    }
   ],
   "source": [
    "movie_basics_df.head(2)"
   ]
  },
  {
   "cell_type": "code",
   "execution_count": 25,
   "metadata": {},
   "outputs": [
    {
     "name": "stdout",
     "output_type": "stream",
     "text": [
      "<class 'pandas.core.frame.DataFrame'>\n",
      "RangeIndex: 146144 entries, 0 to 146143\n",
      "Data columns (total 6 columns):\n",
      " #   Column           Non-Null Count   Dtype  \n",
      "---  ------           --------------   -----  \n",
      " 0   movie_id         146144 non-null  object \n",
      " 1   primary_title    146144 non-null  object \n",
      " 2   original_title   146123 non-null  object \n",
      " 3   start_year       146144 non-null  int64  \n",
      " 4   runtime_minutes  114405 non-null  float64\n",
      " 5   genres           140736 non-null  object \n",
      "dtypes: float64(1), int64(1), object(4)\n",
      "memory usage: 6.7+ MB\n"
     ]
    }
   ],
   "source": [
    "movie_basics_df.info()"
   ]
  },
  {
   "cell_type": "code",
   "execution_count": null,
   "metadata": {},
   "outputs": [],
   "source": [
    "#extract csvs to dataframes. bom, tn, tmdb"
   ]
  },
  {
   "cell_type": "code",
   "execution_count": 75,
   "metadata": {},
   "outputs": [
    {
     "data": {
      "text/html": [
       "<div>\n",
       "<style scoped>\n",
       "    .dataframe tbody tr th:only-of-type {\n",
       "        vertical-align: middle;\n",
       "    }\n",
       "\n",
       "    .dataframe tbody tr th {\n",
       "        vertical-align: top;\n",
       "    }\n",
       "\n",
       "    .dataframe thead th {\n",
       "        text-align: right;\n",
       "    }\n",
       "</style>\n",
       "<table border=\"1\" class=\"dataframe\">\n",
       "  <thead>\n",
       "    <tr style=\"text-align: right;\">\n",
       "      <th></th>\n",
       "      <th>title</th>\n",
       "      <th>studio</th>\n",
       "      <th>domestic_gross</th>\n",
       "      <th>foreign_gross</th>\n",
       "      <th>year</th>\n",
       "    </tr>\n",
       "  </thead>\n",
       "  <tbody>\n",
       "    <tr>\n",
       "      <th>0</th>\n",
       "      <td>Toy Story 3</td>\n",
       "      <td>BV</td>\n",
       "      <td>415000000.0</td>\n",
       "      <td>652000000.0</td>\n",
       "      <td>2010</td>\n",
       "    </tr>\n",
       "    <tr>\n",
       "      <th>1</th>\n",
       "      <td>Alice in Wonderland (2010)</td>\n",
       "      <td>BV</td>\n",
       "      <td>334200000.0</td>\n",
       "      <td>691300000.0</td>\n",
       "      <td>2010</td>\n",
       "    </tr>\n",
       "  </tbody>\n",
       "</table>\n",
       "</div>"
      ],
      "text/plain": [
       "                        title studio  domestic_gross  foreign_gross  year\n",
       "0                 Toy Story 3     BV     415000000.0    652000000.0  2010\n",
       "1  Alice in Wonderland (2010)     BV     334200000.0    691300000.0  2010"
      ]
     },
     "execution_count": 75,
     "metadata": {},
     "output_type": "execute_result"
    }
   ],
   "source": [
    "bom_raw_df = pd.read_csv('bom.movie_gross.csv')\n",
    "bom_raw_df.head(2)"
   ]
  },
  {
   "cell_type": "code",
   "execution_count": 31,
   "metadata": {},
   "outputs": [
    {
     "data": {
      "text/html": [
       "<div>\n",
       "<style scoped>\n",
       "    .dataframe tbody tr th:only-of-type {\n",
       "        vertical-align: middle;\n",
       "    }\n",
       "\n",
       "    .dataframe tbody tr th {\n",
       "        vertical-align: top;\n",
       "    }\n",
       "\n",
       "    .dataframe thead th {\n",
       "        text-align: right;\n",
       "    }\n",
       "</style>\n",
       "<table border=\"1\" class=\"dataframe\">\n",
       "  <thead>\n",
       "    <tr style=\"text-align: right;\">\n",
       "      <th></th>\n",
       "      <th>id</th>\n",
       "      <th>release_date</th>\n",
       "      <th>movie</th>\n",
       "      <th>production_budget</th>\n",
       "      <th>domestic_gross</th>\n",
       "      <th>worldwide_gross</th>\n",
       "    </tr>\n",
       "  </thead>\n",
       "  <tbody>\n",
       "    <tr>\n",
       "      <th>0</th>\n",
       "      <td>1</td>\n",
       "      <td>Dec 18, 2009</td>\n",
       "      <td>Avatar</td>\n",
       "      <td>$425,000,000</td>\n",
       "      <td>$760,507,625</td>\n",
       "      <td>$2,776,345,279</td>\n",
       "    </tr>\n",
       "    <tr>\n",
       "      <th>1</th>\n",
       "      <td>2</td>\n",
       "      <td>May 20, 2011</td>\n",
       "      <td>Pirates of the Caribbean: On Stranger Tides</td>\n",
       "      <td>$410,600,000</td>\n",
       "      <td>$241,063,875</td>\n",
       "      <td>$1,045,663,875</td>\n",
       "    </tr>\n",
       "  </tbody>\n",
       "</table>\n",
       "</div>"
      ],
      "text/plain": [
       "   id  release_date                                        movie  \\\n",
       "0   1  Dec 18, 2009                                       Avatar   \n",
       "1   2  May 20, 2011  Pirates of the Caribbean: On Stranger Tides   \n",
       "\n",
       "  production_budget domestic_gross worldwide_gross  \n",
       "0      $425,000,000   $760,507,625  $2,776,345,279  \n",
       "1      $410,600,000   $241,063,875  $1,045,663,875  "
      ]
     },
     "execution_count": 31,
     "metadata": {},
     "output_type": "execute_result"
    }
   ],
   "source": [
    "tn_raw_df = pd.read_csv('tn.movie_budgets.csv')\n",
    "tn_raw_df.head(2)"
   ]
  },
  {
   "cell_type": "code",
   "execution_count": null,
   "metadata": {},
   "outputs": [],
   "source": [
    "#Create clean title columns for matching 1) MOVIE_BASICS"
   ]
  },
  {
   "cell_type": "code",
   "execution_count": 32,
   "metadata": {},
   "outputs": [],
   "source": [
    "movie_basics_df['clean_title'] = movie_basics_df['primary_title'].str.lower()"
   ]
  },
  {
   "cell_type": "code",
   "execution_count": 34,
   "metadata": {},
   "outputs": [],
   "source": [
    "movie_basics_df['clean_title'] = movie_basics_df['clean_title'].str.replace(\"'\",\"\").replace(',', '').replace(':','').replace('.','').replace('-','')"
   ]
  },
  {
   "cell_type": "code",
   "execution_count": 35,
   "metadata": {},
   "outputs": [],
   "source": [
    "#move clean title to the front then rest index\n",
    "movie_basics_df.set_index('clean_title', inplace = True)"
   ]
  },
  {
   "cell_type": "code",
   "execution_count": 37,
   "metadata": {},
   "outputs": [
    {
     "data": {
      "text/html": [
       "<div>\n",
       "<style scoped>\n",
       "    .dataframe tbody tr th:only-of-type {\n",
       "        vertical-align: middle;\n",
       "    }\n",
       "\n",
       "    .dataframe tbody tr th {\n",
       "        vertical-align: top;\n",
       "    }\n",
       "\n",
       "    .dataframe thead th {\n",
       "        text-align: right;\n",
       "    }\n",
       "</style>\n",
       "<table border=\"1\" class=\"dataframe\">\n",
       "  <thead>\n",
       "    <tr style=\"text-align: right;\">\n",
       "      <th></th>\n",
       "      <th>index</th>\n",
       "      <th>clean_title</th>\n",
       "      <th>movie_id</th>\n",
       "      <th>primary_title</th>\n",
       "      <th>original_title</th>\n",
       "      <th>start_year</th>\n",
       "      <th>runtime_minutes</th>\n",
       "      <th>genres</th>\n",
       "    </tr>\n",
       "  </thead>\n",
       "  <tbody>\n",
       "    <tr>\n",
       "      <th>0</th>\n",
       "      <td>0</td>\n",
       "      <td>sunghursh</td>\n",
       "      <td>tt0063540</td>\n",
       "      <td>Sunghursh</td>\n",
       "      <td>Sunghursh</td>\n",
       "      <td>2013</td>\n",
       "      <td>175.0</td>\n",
       "      <td>Action,Crime,Drama</td>\n",
       "    </tr>\n",
       "    <tr>\n",
       "      <th>1</th>\n",
       "      <td>1</td>\n",
       "      <td>one day before the rainy season</td>\n",
       "      <td>tt0066787</td>\n",
       "      <td>One Day Before the Rainy Season</td>\n",
       "      <td>Ashad Ka Ek Din</td>\n",
       "      <td>2019</td>\n",
       "      <td>114.0</td>\n",
       "      <td>Biography,Drama</td>\n",
       "    </tr>\n",
       "  </tbody>\n",
       "</table>\n",
       "</div>"
      ],
      "text/plain": [
       "   index                      clean_title   movie_id  \\\n",
       "0      0                        sunghursh  tt0063540   \n",
       "1      1  one day before the rainy season  tt0066787   \n",
       "\n",
       "                     primary_title   original_title  start_year  \\\n",
       "0                        Sunghursh        Sunghursh        2013   \n",
       "1  One Day Before the Rainy Season  Ashad Ka Ek Din        2019   \n",
       "\n",
       "   runtime_minutes              genres  \n",
       "0            175.0  Action,Crime,Drama  \n",
       "1            114.0     Biography,Drama  "
      ]
     },
     "execution_count": 37,
     "metadata": {},
     "output_type": "execute_result"
    }
   ],
   "source": [
    "movie_basics_df.reset_index(inplace = True)\n",
    "movie_basics_df.head(2)"
   ]
  },
  {
   "cell_type": "code",
   "execution_count": null,
   "metadata": {},
   "outputs": [],
   "source": [
    "#2) BOM RAW"
   ]
  },
  {
   "cell_type": "code",
   "execution_count": 76,
   "metadata": {},
   "outputs": [],
   "source": [
    "bom_raw_df['clean_title'] = bom_raw_df['title'].str.lower()"
   ]
  },
  {
   "cell_type": "code",
   "execution_count": 77,
   "metadata": {},
   "outputs": [],
   "source": [
    "bom_raw_df['clean_title'] = bom_raw_df['clean_title'].str.replace(\"'\",\"\").replace(',', '').replace(':','').replace('.','').replace('-','')"
   ]
  },
  {
   "cell_type": "code",
   "execution_count": 80,
   "metadata": {},
   "outputs": [
    {
     "data": {
      "text/html": [
       "<div>\n",
       "<style scoped>\n",
       "    .dataframe tbody tr th:only-of-type {\n",
       "        vertical-align: middle;\n",
       "    }\n",
       "\n",
       "    .dataframe tbody tr th {\n",
       "        vertical-align: top;\n",
       "    }\n",
       "\n",
       "    .dataframe thead th {\n",
       "        text-align: right;\n",
       "    }\n",
       "</style>\n",
       "<table border=\"1\" class=\"dataframe\">\n",
       "  <thead>\n",
       "    <tr style=\"text-align: right;\">\n",
       "      <th></th>\n",
       "      <th>title</th>\n",
       "      <th>studio</th>\n",
       "      <th>domestic_gross</th>\n",
       "      <th>foreign_gross</th>\n",
       "      <th>year</th>\n",
       "    </tr>\n",
       "    <tr>\n",
       "      <th>clean_title</th>\n",
       "      <th></th>\n",
       "      <th></th>\n",
       "      <th></th>\n",
       "      <th></th>\n",
       "      <th></th>\n",
       "    </tr>\n",
       "  </thead>\n",
       "  <tbody>\n",
       "    <tr>\n",
       "      <th>toy story 3</th>\n",
       "      <td>Toy Story 3</td>\n",
       "      <td>BV</td>\n",
       "      <td>415000000.0</td>\n",
       "      <td>652000000.0</td>\n",
       "      <td>2010</td>\n",
       "    </tr>\n",
       "    <tr>\n",
       "      <th>alice in wonderland (2010)</th>\n",
       "      <td>Alice in Wonderland (2010)</td>\n",
       "      <td>BV</td>\n",
       "      <td>334200000.0</td>\n",
       "      <td>691300000.0</td>\n",
       "      <td>2010</td>\n",
       "    </tr>\n",
       "  </tbody>\n",
       "</table>\n",
       "</div>"
      ],
      "text/plain": [
       "                                                 title studio  domestic_gross  \\\n",
       "clean_title                                                                     \n",
       "toy story 3                                Toy Story 3     BV     415000000.0   \n",
       "alice in wonderland (2010)  Alice in Wonderland (2010)     BV     334200000.0   \n",
       "\n",
       "                            foreign_gross  year  \n",
       "clean_title                                      \n",
       "toy story 3                   652000000.0  2010  \n",
       "alice in wonderland (2010)    691300000.0  2010  "
      ]
     },
     "execution_count": 80,
     "metadata": {},
     "output_type": "execute_result"
    }
   ],
   "source": [
    "bom_raw_df.set_index('clean_title', inplace = True)\n",
    "bom_raw_df.head(2)"
   ]
  },
  {
   "cell_type": "code",
   "execution_count": 47,
   "metadata": {},
   "outputs": [],
   "source": [
    "#tn_budgets"
   ]
  },
  {
   "cell_type": "code",
   "execution_count": 50,
   "metadata": {},
   "outputs": [],
   "source": [
    "tn_raw_df['clean_title'] = tn_raw_df['movie'].str.lower()"
   ]
  },
  {
   "cell_type": "code",
   "execution_count": 63,
   "metadata": {},
   "outputs": [],
   "source": [
    "for title in tn_raw_df['clean_title']: \n",
    "    title.replace(\"'\",\"\").replace(',', '').replace(':','').replace('.','').replace('-','')"
   ]
  },
  {
   "cell_type": "code",
   "execution_count": 64,
   "metadata": {},
   "outputs": [
    {
     "data": {
      "text/html": [
       "<div>\n",
       "<style scoped>\n",
       "    .dataframe tbody tr th:only-of-type {\n",
       "        vertical-align: middle;\n",
       "    }\n",
       "\n",
       "    .dataframe tbody tr th {\n",
       "        vertical-align: top;\n",
       "    }\n",
       "\n",
       "    .dataframe thead th {\n",
       "        text-align: right;\n",
       "    }\n",
       "</style>\n",
       "<table border=\"1\" class=\"dataframe\">\n",
       "  <thead>\n",
       "    <tr style=\"text-align: right;\">\n",
       "      <th></th>\n",
       "      <th>level_0</th>\n",
       "      <th>index</th>\n",
       "      <th>clean_title</th>\n",
       "      <th>id</th>\n",
       "      <th>release_date</th>\n",
       "      <th>movie</th>\n",
       "      <th>production_budget</th>\n",
       "      <th>domestic_gross</th>\n",
       "      <th>worldwide_gross</th>\n",
       "    </tr>\n",
       "  </thead>\n",
       "  <tbody>\n",
       "    <tr>\n",
       "      <th>0</th>\n",
       "      <td>0</td>\n",
       "      <td>0</td>\n",
       "      <td>avatar</td>\n",
       "      <td>1</td>\n",
       "      <td>Dec 18, 2009</td>\n",
       "      <td>Avatar</td>\n",
       "      <td>$425,000,000</td>\n",
       "      <td>$760,507,625</td>\n",
       "      <td>$2,776,345,279</td>\n",
       "    </tr>\n",
       "    <tr>\n",
       "      <th>1</th>\n",
       "      <td>1</td>\n",
       "      <td>1</td>\n",
       "      <td>pirates of the caribbean: on stranger tides</td>\n",
       "      <td>2</td>\n",
       "      <td>May 20, 2011</td>\n",
       "      <td>Pirates of the Caribbean: On Stranger Tides</td>\n",
       "      <td>$410,600,000</td>\n",
       "      <td>$241,063,875</td>\n",
       "      <td>$1,045,663,875</td>\n",
       "    </tr>\n",
       "  </tbody>\n",
       "</table>\n",
       "</div>"
      ],
      "text/plain": [
       "   level_0  index                                  clean_title  id  \\\n",
       "0        0      0                                       avatar   1   \n",
       "1        1      1  pirates of the caribbean: on stranger tides   2   \n",
       "\n",
       "   release_date                                        movie  \\\n",
       "0  Dec 18, 2009                                       Avatar   \n",
       "1  May 20, 2011  Pirates of the Caribbean: On Stranger Tides   \n",
       "\n",
       "  production_budget domestic_gross worldwide_gross  \n",
       "0      $425,000,000   $760,507,625  $2,776,345,279  \n",
       "1      $410,600,000   $241,063,875  $1,045,663,875  "
      ]
     },
     "execution_count": 64,
     "metadata": {},
     "output_type": "execute_result"
    }
   ],
   "source": [
    "\n",
    "tn_raw_df.reset_index( inplace = True)\n",
    "tn_raw_df.head(2)"
   ]
  },
  {
   "cell_type": "code",
   "execution_count": 61,
   "metadata": {},
   "outputs": [
    {
     "data": {
      "text/html": [
       "<div>\n",
       "<style scoped>\n",
       "    .dataframe tbody tr th:only-of-type {\n",
       "        vertical-align: middle;\n",
       "    }\n",
       "\n",
       "    .dataframe tbody tr th {\n",
       "        vertical-align: top;\n",
       "    }\n",
       "\n",
       "    .dataframe thead th {\n",
       "        text-align: right;\n",
       "    }\n",
       "</style>\n",
       "<table border=\"1\" class=\"dataframe\">\n",
       "  <thead>\n",
       "    <tr style=\"text-align: right;\">\n",
       "      <th></th>\n",
       "      <th>title</th>\n",
       "      <th>studio</th>\n",
       "      <th>domestic_gross</th>\n",
       "      <th>foreign_gross</th>\n",
       "      <th>year</th>\n",
       "    </tr>\n",
       "    <tr>\n",
       "      <th>clean_title</th>\n",
       "      <th></th>\n",
       "      <th></th>\n",
       "      <th></th>\n",
       "      <th></th>\n",
       "      <th></th>\n",
       "    </tr>\n",
       "  </thead>\n",
       "  <tbody>\n",
       "    <tr>\n",
       "      <th>toy story 3</th>\n",
       "      <td>Toy Story 3</td>\n",
       "      <td>BV</td>\n",
       "      <td>415000000.0</td>\n",
       "      <td>652000000.0</td>\n",
       "      <td>2010</td>\n",
       "    </tr>\n",
       "    <tr>\n",
       "      <th>alice in wonderland (2010)</th>\n",
       "      <td>Alice in Wonderland (2010)</td>\n",
       "      <td>BV</td>\n",
       "      <td>334200000.0</td>\n",
       "      <td>691300000.0</td>\n",
       "      <td>2010</td>\n",
       "    </tr>\n",
       "    <tr>\n",
       "      <th>harry potter and the deathly hallows part 1</th>\n",
       "      <td>Harry Potter and the Deathly Hallows Part 1</td>\n",
       "      <td>WB</td>\n",
       "      <td>296000000.0</td>\n",
       "      <td>664300000.0</td>\n",
       "      <td>2010</td>\n",
       "    </tr>\n",
       "    <tr>\n",
       "      <th>inception</th>\n",
       "      <td>Inception</td>\n",
       "      <td>WB</td>\n",
       "      <td>292600000.0</td>\n",
       "      <td>535700000.0</td>\n",
       "      <td>2010</td>\n",
       "    </tr>\n",
       "    <tr>\n",
       "      <th>shrek forever after</th>\n",
       "      <td>Shrek Forever After</td>\n",
       "      <td>P/DW</td>\n",
       "      <td>238700000.0</td>\n",
       "      <td>513900000.0</td>\n",
       "      <td>2010</td>\n",
       "    </tr>\n",
       "    <tr>\n",
       "      <th>...</th>\n",
       "      <td>...</td>\n",
       "      <td>...</td>\n",
       "      <td>...</td>\n",
       "      <td>...</td>\n",
       "      <td>...</td>\n",
       "    </tr>\n",
       "    <tr>\n",
       "      <th>the quake</th>\n",
       "      <td>The Quake</td>\n",
       "      <td>Magn.</td>\n",
       "      <td>6200.0</td>\n",
       "      <td>NaN</td>\n",
       "      <td>2018</td>\n",
       "    </tr>\n",
       "    <tr>\n",
       "      <th>edward ii (2018 re-release)</th>\n",
       "      <td>Edward II (2018 re-release)</td>\n",
       "      <td>FM</td>\n",
       "      <td>4800.0</td>\n",
       "      <td>NaN</td>\n",
       "      <td>2018</td>\n",
       "    </tr>\n",
       "    <tr>\n",
       "      <th>el pacto</th>\n",
       "      <td>El Pacto</td>\n",
       "      <td>Sony</td>\n",
       "      <td>2500.0</td>\n",
       "      <td>NaN</td>\n",
       "      <td>2018</td>\n",
       "    </tr>\n",
       "    <tr>\n",
       "      <th>the swan</th>\n",
       "      <td>The Swan</td>\n",
       "      <td>Synergetic</td>\n",
       "      <td>2400.0</td>\n",
       "      <td>NaN</td>\n",
       "      <td>2018</td>\n",
       "    </tr>\n",
       "    <tr>\n",
       "      <th>an actor prepares</th>\n",
       "      <td>An Actor Prepares</td>\n",
       "      <td>Grav.</td>\n",
       "      <td>1700.0</td>\n",
       "      <td>NaN</td>\n",
       "      <td>2018</td>\n",
       "    </tr>\n",
       "  </tbody>\n",
       "</table>\n",
       "<p>3387 rows × 5 columns</p>\n",
       "</div>"
      ],
      "text/plain": [
       "                                                                                   title  \\\n",
       "clean_title                                                                                \n",
       "toy story 3                                                                  Toy Story 3   \n",
       "alice in wonderland (2010)                                    Alice in Wonderland (2010)   \n",
       "harry potter and the deathly hallows part 1  Harry Potter and the Deathly Hallows Part 1   \n",
       "inception                                                                      Inception   \n",
       "shrek forever after                                                  Shrek Forever After   \n",
       "...                                                                                  ...   \n",
       "the quake                                                                      The Quake   \n",
       "edward ii (2018 re-release)                                  Edward II (2018 re-release)   \n",
       "el pacto                                                                        El Pacto   \n",
       "the swan                                                                        The Swan   \n",
       "an actor prepares                                                      An Actor Prepares   \n",
       "\n",
       "                                                 studio  domestic_gross  \\\n",
       "clean_title                                                               \n",
       "toy story 3                                          BV     415000000.0   \n",
       "alice in wonderland (2010)                           BV     334200000.0   \n",
       "harry potter and the deathly hallows part 1          WB     296000000.0   \n",
       "inception                                            WB     292600000.0   \n",
       "shrek forever after                                P/DW     238700000.0   \n",
       "...                                                 ...             ...   \n",
       "the quake                                         Magn.          6200.0   \n",
       "edward ii (2018 re-release)                          FM          4800.0   \n",
       "el pacto                                           Sony          2500.0   \n",
       "the swan                                     Synergetic          2400.0   \n",
       "an actor prepares                                 Grav.          1700.0   \n",
       "\n",
       "                                             foreign_gross  year  \n",
       "clean_title                                                       \n",
       "toy story 3                                    652000000.0  2010  \n",
       "alice in wonderland (2010)                     691300000.0  2010  \n",
       "harry potter and the deathly hallows part 1    664300000.0  2010  \n",
       "inception                                      535700000.0  2010  \n",
       "shrek forever after                            513900000.0  2010  \n",
       "...                                                    ...   ...  \n",
       "the quake                                              NaN  2018  \n",
       "edward ii (2018 re-release)                            NaN  2018  \n",
       "el pacto                                               NaN  2018  \n",
       "the swan                                               NaN  2018  \n",
       "an actor prepares                                      NaN  2018  \n",
       "\n",
       "[3387 rows x 5 columns]"
      ]
     },
     "execution_count": 61,
     "metadata": {},
     "output_type": "execute_result"
    }
   ],
   "source": [
    "bom_raw_df"
   ]
  },
  {
   "cell_type": "code",
   "execution_count": 65,
   "metadata": {},
   "outputs": [],
   "source": [
    "#CLEAN title not eliminating punctuation rn so going to do it in excel\n",
    "tn_raw_df.to_csv('tn_raw_clean_fix.csv')\n",
    "#checking the others\n",
    "bom_raw_df.to_csv('bom_raw_clean_fix.csv')\n",
    "movie_basics_df.to_csv('movie_basics_clean_fix.csv')"
   ]
  },
  {
   "cell_type": "code",
   "execution_count": null,
   "metadata": {},
   "outputs": [],
   "source": [
    "#that didn't work for the movie_basics because the file is too large so"
   ]
  },
  {
   "cell_type": "code",
   "execution_count": null,
   "metadata": {},
   "outputs": [],
   "source": [
    "#engineer a foreign_gross for tn and worldwide_gross for bom"
   ]
  },
  {
   "cell_type": "code",
   "execution_count": 81,
   "metadata": {},
   "outputs": [],
   "source": [
    "bom_raw_df['worldwide_gross'] = bom_raw_df['foreign_gross'] + bom_raw_df['domestic_gross']"
   ]
  },
  {
   "cell_type": "code",
   "execution_count": 72,
   "metadata": {},
   "outputs": [],
   "source": [
    "#having trouble fixing number formats so\n",
    "tn_raw_df.to_csv('tn_numfix.csv')"
   ]
  },
  {
   "cell_type": "code",
   "execution_count": 73,
   "metadata": {},
   "outputs": [
    {
     "name": "stdout",
     "output_type": "stream",
     "text": [
      "<class 'pandas.core.frame.DataFrame'>\n",
      "RangeIndex: 5782 entries, 0 to 5781\n",
      "Data columns (total 10 columns):\n",
      " #   Column             Non-Null Count  Dtype \n",
      "---  ------             --------------  ----- \n",
      " 0   Unnamed: 0         5782 non-null   int64 \n",
      " 1   level_0            5782 non-null   int64 \n",
      " 2   index              5782 non-null   int64 \n",
      " 3   clean_title        5782 non-null   object\n",
      " 4   id                 5782 non-null   int64 \n",
      " 5   release_date       5782 non-null   object\n",
      " 6   movie              5782 non-null   object\n",
      " 7   production_budget  5782 non-null   int64 \n",
      " 8   domestic_gross     5782 non-null   int64 \n",
      " 9   worldwide_gross    5782 non-null   int64 \n",
      "dtypes: int64(7), object(3)\n",
      "memory usage: 451.8+ KB\n"
     ]
    }
   ],
   "source": [
    "tn_fixed_df = pd.read_csv('tn_numfix.csv')\n",
    "tn_fixed_df.info()"
   ]
  },
  {
   "cell_type": "code",
   "execution_count": 82,
   "metadata": {},
   "outputs": [],
   "source": [
    "#now to engineer foreign gross\n",
    "tn_raw_df['foreign_gross'] = tn_raw_df['worldwide_gross'] + tn_raw_df['domestic_gross']\n"
   ]
  },
  {
   "cell_type": "markdown",
   "metadata": {},
   "source": [
    "# NOW TO JOIN THEM"
   ]
  },
  {
   "cell_type": "code",
   "execution_count": 87,
   "metadata": {},
   "outputs": [],
   "source": [
    "\n",
    "tn_raw_df.drop(['level_0', 'index'], axis = 1, inplace =True)"
   ]
  },
  {
   "cell_type": "code",
   "execution_count": 88,
   "metadata": {},
   "outputs": [],
   "source": [
    "tn_raw_df.set_index('clean_title', inplace=True)"
   ]
  },
  {
   "cell_type": "code",
   "execution_count": 89,
   "metadata": {
    "scrolled": true
   },
   "outputs": [
    {
     "data": {
      "text/html": [
       "<div>\n",
       "<style scoped>\n",
       "    .dataframe tbody tr th:only-of-type {\n",
       "        vertical-align: middle;\n",
       "    }\n",
       "\n",
       "    .dataframe tbody tr th {\n",
       "        vertical-align: top;\n",
       "    }\n",
       "\n",
       "    .dataframe thead th {\n",
       "        text-align: right;\n",
       "    }\n",
       "</style>\n",
       "<table border=\"1\" class=\"dataframe\">\n",
       "  <thead>\n",
       "    <tr style=\"text-align: right;\">\n",
       "      <th></th>\n",
       "      <th>index</th>\n",
       "      <th>clean_title</th>\n",
       "      <th>movie_id</th>\n",
       "      <th>primary_title</th>\n",
       "      <th>original_title</th>\n",
       "      <th>start_year</th>\n",
       "      <th>runtime_minutes</th>\n",
       "      <th>genres</th>\n",
       "      <th>id</th>\n",
       "      <th>release_date</th>\n",
       "      <th>movie</th>\n",
       "      <th>production_budget</th>\n",
       "      <th>domestic_gross</th>\n",
       "      <th>worldwide_gross</th>\n",
       "      <th>foreign_gross</th>\n",
       "    </tr>\n",
       "  </thead>\n",
       "  <tbody>\n",
       "    <tr>\n",
       "      <th>0</th>\n",
       "      <td>0</td>\n",
       "      <td>sunghursh</td>\n",
       "      <td>tt0063540</td>\n",
       "      <td>Sunghursh</td>\n",
       "      <td>Sunghursh</td>\n",
       "      <td>2013</td>\n",
       "      <td>175.0</td>\n",
       "      <td>Action,Crime,Drama</td>\n",
       "      <td>NaN</td>\n",
       "      <td>NaN</td>\n",
       "      <td>NaN</td>\n",
       "      <td>NaN</td>\n",
       "      <td>NaN</td>\n",
       "      <td>NaN</td>\n",
       "      <td>NaN</td>\n",
       "    </tr>\n",
       "    <tr>\n",
       "      <th>1</th>\n",
       "      <td>1</td>\n",
       "      <td>one day before the rainy season</td>\n",
       "      <td>tt0066787</td>\n",
       "      <td>One Day Before the Rainy Season</td>\n",
       "      <td>Ashad Ka Ek Din</td>\n",
       "      <td>2019</td>\n",
       "      <td>114.0</td>\n",
       "      <td>Biography,Drama</td>\n",
       "      <td>NaN</td>\n",
       "      <td>NaN</td>\n",
       "      <td>NaN</td>\n",
       "      <td>NaN</td>\n",
       "      <td>NaN</td>\n",
       "      <td>NaN</td>\n",
       "      <td>NaN</td>\n",
       "    </tr>\n",
       "  </tbody>\n",
       "</table>\n",
       "</div>"
      ],
      "text/plain": [
       "   index                      clean_title   movie_id  \\\n",
       "0      0                        sunghursh  tt0063540   \n",
       "1      1  one day before the rainy season  tt0066787   \n",
       "\n",
       "                     primary_title   original_title  start_year  \\\n",
       "0                        Sunghursh        Sunghursh        2013   \n",
       "1  One Day Before the Rainy Season  Ashad Ka Ek Din        2019   \n",
       "\n",
       "   runtime_minutes              genres  id release_date movie  \\\n",
       "0            175.0  Action,Crime,Drama NaN          NaN   NaN   \n",
       "1            114.0     Biography,Drama NaN          NaN   NaN   \n",
       "\n",
       "  production_budget domestic_gross worldwide_gross foreign_gross  \n",
       "0               NaN            NaN             NaN           NaN  \n",
       "1               NaN            NaN             NaN           NaN  "
      ]
     },
     "execution_count": 89,
     "metadata": {},
     "output_type": "execute_result"
    }
   ],
   "source": [
    "\n",
    "tn_mbasics_merge = movie_basics_df.join(tn_raw_df, on='clean_title')\n",
    "tn_mbasics_merge.head(2)"
   ]
  },
  {
   "cell_type": "code",
   "execution_count": 93,
   "metadata": {},
   "outputs": [],
   "source": [
    "tn_mbasics_merge.drop('index', axis=1, inplace=True)"
   ]
  },
  {
   "cell_type": "code",
   "execution_count": 90,
   "metadata": {},
   "outputs": [
    {
     "name": "stdout",
     "output_type": "stream",
     "text": [
      "<class 'pandas.core.frame.DataFrame'>\n",
      "Int64Index: 146353 entries, 0 to 146143\n",
      "Data columns (total 15 columns):\n",
      " #   Column             Non-Null Count   Dtype  \n",
      "---  ------             --------------   -----  \n",
      " 0   index              146353 non-null  int64  \n",
      " 1   clean_title        146353 non-null  object \n",
      " 2   movie_id           146353 non-null  object \n",
      " 3   primary_title      146353 non-null  object \n",
      " 4   original_title     146332 non-null  object \n",
      " 5   start_year         146353 non-null  int64  \n",
      " 6   runtime_minutes    114581 non-null  float64\n",
      " 7   genres             140940 non-null  object \n",
      " 8   id                 3897 non-null    float64\n",
      " 9   release_date       3897 non-null    object \n",
      " 10  movie              3897 non-null    object \n",
      " 11  production_budget  3897 non-null    object \n",
      " 12  domestic_gross     3897 non-null    object \n",
      " 13  worldwide_gross    3897 non-null    object \n",
      " 14  foreign_gross      3897 non-null    object \n",
      "dtypes: float64(2), int64(2), object(11)\n",
      "memory usage: 17.9+ MB\n"
     ]
    }
   ],
   "source": [
    "#check the merge info\n",
    "tn_mbasics_merge.info()"
   ]
  },
  {
   "cell_type": "code",
   "execution_count": 96,
   "metadata": {},
   "outputs": [],
   "source": [
    "#lets try merging this with bom before dropping nulls\n",
    "all_merged_df = tn_mbasics_merge.join(bom_raw_df, on='clean_title', rsuffix = 'bom')"
   ]
  },
  {
   "cell_type": "code",
   "execution_count": 97,
   "metadata": {},
   "outputs": [
    {
     "name": "stdout",
     "output_type": "stream",
     "text": [
      "<class 'pandas.core.frame.DataFrame'>\n",
      "Int64Index: 146355 entries, 0 to 146143\n",
      "Data columns (total 20 columns):\n",
      " #   Column              Non-Null Count   Dtype  \n",
      "---  ------              --------------   -----  \n",
      " 0   clean_title         146355 non-null  object \n",
      " 1   movie_id            146355 non-null  object \n",
      " 2   primary_title       146355 non-null  object \n",
      " 3   original_title      146334 non-null  object \n",
      " 4   start_year          146355 non-null  int64  \n",
      " 5   runtime_minutes     114583 non-null  float64\n",
      " 6   genres              140942 non-null  object \n",
      " 7   id                  3897 non-null    float64\n",
      " 8   release_date        3897 non-null    object \n",
      " 9   movie               3897 non-null    object \n",
      " 10  production_budget   3897 non-null    object \n",
      " 11  domestic_gross      3897 non-null    object \n",
      " 12  worldwide_gross     3897 non-null    object \n",
      " 13  foreign_gross       3897 non-null    object \n",
      " 14  title               3515 non-null    object \n",
      " 15  studio              3512 non-null    object \n",
      " 16  domestic_grossbom   3490 non-null    float64\n",
      " 17  foreign_grossbom    2130 non-null    float64\n",
      " 18  year                3515 non-null    float64\n",
      " 19  worldwide_grossbom  2105 non-null    float64\n",
      "dtypes: float64(6), int64(1), object(13)\n",
      "memory usage: 23.4+ MB\n"
     ]
    }
   ],
   "source": [
    "all_merged_df.info()"
   ]
  },
  {
   "cell_type": "code",
   "execution_count": 101,
   "metadata": {},
   "outputs": [],
   "source": [
    "#now to drop NAs\n",
    "all_merged_df.dropna(subset = ['release_date'], inplace =True)\n"
   ]
  },
  {
   "cell_type": "code",
   "execution_count": 102,
   "metadata": {},
   "outputs": [
    {
     "name": "stdout",
     "output_type": "stream",
     "text": [
      "<class 'pandas.core.frame.DataFrame'>\n",
      "Int64Index: 3897 entries, 20 to 146078\n",
      "Data columns (total 20 columns):\n",
      " #   Column              Non-Null Count  Dtype  \n",
      "---  ------              --------------  -----  \n",
      " 0   clean_title         3897 non-null   object \n",
      " 1   movie_id            3897 non-null   object \n",
      " 2   primary_title       3897 non-null   object \n",
      " 3   original_title      3896 non-null   object \n",
      " 4   start_year          3897 non-null   int64  \n",
      " 5   runtime_minutes     3401 non-null   float64\n",
      " 6   genres              3824 non-null   object \n",
      " 7   id                  3897 non-null   float64\n",
      " 8   release_date        3897 non-null   object \n",
      " 9   movie               3897 non-null   object \n",
      " 10  production_budget   3897 non-null   object \n",
      " 11  domestic_gross      3897 non-null   object \n",
      " 12  worldwide_gross     3897 non-null   object \n",
      " 13  foreign_gross       3897 non-null   object \n",
      " 14  title               1666 non-null   object \n",
      " 15  studio              1666 non-null   object \n",
      " 16  domestic_grossbom   1665 non-null   float64\n",
      " 17  foreign_grossbom    1426 non-null   float64\n",
      " 18  year                1666 non-null   float64\n",
      " 19  worldwide_grossbom  1425 non-null   float64\n",
      "dtypes: float64(6), int64(1), object(13)\n",
      "memory usage: 639.4+ KB\n"
     ]
    }
   ],
   "source": [
    "all_merged_df.info()"
   ]
  },
  {
   "cell_type": "code",
   "execution_count": 105,
   "metadata": {},
   "outputs": [
    {
     "data": {
      "text/plain": [
       "20                      $73,706$0\n",
       "33        $122,133,227$70,433,227\n",
       "40           $1,165,996$1,109,808\n",
       "48             $9,313,302$720,828\n",
       "54        $187,861,183$58,236,838\n",
       "                   ...           \n",
       "145843       $6,916,869$6,916,869\n",
       "145937      $10,551,417$8,224,288\n",
       "145986                       $0$0\n",
       "146025       $1,110,511$1,017,107\n",
       "146078    $165,720,921$81,562,942\n",
       "Name: foreign_gross, Length: 3897, dtype: object"
      ]
     },
     "execution_count": 105,
     "metadata": {},
     "output_type": "execute_result"
    }
   ],
   "source": [
    "all_merged_df['foreign_gross']"
   ]
  },
  {
   "cell_type": "code",
   "execution_count": 106,
   "metadata": {},
   "outputs": [],
   "source": [
    "#looks like we need to take a closer look in excel and fix numbers\n",
    "all_merged_df.to_csv('all_merged_fixup.csv')"
   ]
  },
  {
   "cell_type": "code",
   "execution_count": 107,
   "metadata": {},
   "outputs": [],
   "source": [
    "final_merge_df = pd.read_csv('all_merged_fixup.csv')"
   ]
  },
  {
   "cell_type": "code",
   "execution_count": 108,
   "metadata": {},
   "outputs": [
    {
     "name": "stdout",
     "output_type": "stream",
     "text": [
      "<class 'pandas.core.frame.DataFrame'>\n",
      "RangeIndex: 3897 entries, 0 to 3896\n",
      "Data columns (total 21 columns):\n",
      " #   Column              Non-Null Count  Dtype  \n",
      "---  ------              --------------  -----  \n",
      " 0   Unnamed: 0          3897 non-null   int64  \n",
      " 1   clean_title         3897 non-null   object \n",
      " 2   movie_id            3897 non-null   object \n",
      " 3   primary_title       3897 non-null   object \n",
      " 4   original_title      3896 non-null   object \n",
      " 5   start_year          3897 non-null   int64  \n",
      " 6   runtime_minutes     3401 non-null   float64\n",
      " 7   genres              3824 non-null   object \n",
      " 8   id                  3897 non-null   int64  \n",
      " 9   release_date        3897 non-null   object \n",
      " 10  movie               3897 non-null   object \n",
      " 11  production_budget   3897 non-null   int64  \n",
      " 12  domestic_gross      3897 non-null   int64  \n",
      " 13  worldwide_gross     3897 non-null   int64  \n",
      " 14  foreign_gross       3897 non-null   int64  \n",
      " 15  title               1666 non-null   object \n",
      " 16  studio              1666 non-null   object \n",
      " 17  domestic_grossbom   1665 non-null   float64\n",
      " 18  foreign_grossbom    1426 non-null   float64\n",
      " 19  year                1666 non-null   float64\n",
      " 20  worldwide_grossbom  1425 non-null   float64\n",
      "dtypes: float64(5), int64(7), object(9)\n",
      "memory usage: 639.5+ KB\n"
     ]
    }
   ],
   "source": [
    "final_merge_df.info()"
   ]
  },
  {
   "cell_type": "code",
   "execution_count": 109,
   "metadata": {},
   "outputs": [],
   "source": [
    "#Great now lets lets look at genres\n",
    "genres_imdb_list= set(list([x for x in final_merge_df['genres']]))\n"
   ]
  },
  {
   "cell_type": "code",
   "execution_count": 110,
   "metadata": {},
   "outputs": [],
   "source": [
    "genres_imdb_list = list(genres_imdb_list)\n",
    "genres_working1 = []\n",
    "for x in genres_imdb_list:\n",
    "       genres_working1.append(str(x))\n"
   ]
  },
  {
   "cell_type": "code",
   "execution_count": 112,
   "metadata": {},
   "outputs": [
    {
     "data": {
      "text/plain": [
       "['Sport',\n",
       " 'Crime',\n",
       " 'News',\n",
       " 'Romance',\n",
       " 'Sci-Fi',\n",
       " 'Western',\n",
       " 'Horror',\n",
       " 'Drama',\n",
       " 'Family',\n",
       " 'nan',\n",
       " 'Mystery',\n",
       " 'Musical',\n",
       " 'Fantasy',\n",
       " 'Adventure',\n",
       " 'Documentary',\n",
       " 'Thriller',\n",
       " 'Comedy',\n",
       " 'Reality-TV',\n",
       " 'Music',\n",
       " 'History',\n",
       " 'Action',\n",
       " 'Animation']"
      ]
     },
     "execution_count": 112,
     "metadata": {},
     "output_type": "execute_result"
    }
   ],
   "source": [
    "genres_working2 = []\n",
    "for x in genres_working1:\n",
    "    for y in x.split(sep =','):\n",
    "        genres_working2.append(y)\n",
    "imdb_genres = list(set(genres_working2))\n",
    "imdb_genres.pop(1)\n",
    "imdb_genres.pop(-9)\n",
    "imdb_genres"
   ]
  },
  {
   "cell_type": "code",
   "execution_count": null,
   "metadata": {},
   "outputs": [],
   "source": [
    "#NOW TO BUILD BOOLEAN GENRE COLUMNS\n"
   ]
  },
  {
   "cell_type": "code",
   "execution_count": 113,
   "metadata": {},
   "outputs": [],
   "source": [
    "for x in imdb_genres:\n",
    "    final_merge_df[x] = (final_merge_df['genres'].str.contains(x))\n"
   ]
  },
  {
   "cell_type": "code",
   "execution_count": 114,
   "metadata": {},
   "outputs": [
    {
     "name": "stdout",
     "output_type": "stream",
     "text": [
      "<class 'pandas.core.frame.DataFrame'>\n",
      "RangeIndex: 3897 entries, 0 to 3896\n",
      "Data columns (total 43 columns):\n",
      " #   Column              Non-Null Count  Dtype  \n",
      "---  ------              --------------  -----  \n",
      " 0   Unnamed: 0          3897 non-null   int64  \n",
      " 1   clean_title         3897 non-null   object \n",
      " 2   movie_id            3897 non-null   object \n",
      " 3   primary_title       3897 non-null   object \n",
      " 4   original_title      3896 non-null   object \n",
      " 5   start_year          3897 non-null   int64  \n",
      " 6   runtime_minutes     3401 non-null   float64\n",
      " 7   genres              3824 non-null   object \n",
      " 8   id                  3897 non-null   int64  \n",
      " 9   release_date        3897 non-null   object \n",
      " 10  movie               3897 non-null   object \n",
      " 11  production_budget   3897 non-null   int64  \n",
      " 12  domestic_gross      3897 non-null   int64  \n",
      " 13  worldwide_gross     3897 non-null   int64  \n",
      " 14  foreign_gross       3897 non-null   int64  \n",
      " 15  title               1666 non-null   object \n",
      " 16  studio              1666 non-null   object \n",
      " 17  domestic_grossbom   1665 non-null   float64\n",
      " 18  foreign_grossbom    1426 non-null   float64\n",
      " 19  year                1666 non-null   float64\n",
      " 20  worldwide_grossbom  1425 non-null   float64\n",
      " 21  Sport               3824 non-null   object \n",
      " 22  Crime               3824 non-null   object \n",
      " 23  News                3824 non-null   object \n",
      " 24  Romance             3824 non-null   object \n",
      " 25  Sci-Fi              3824 non-null   object \n",
      " 26  Western             3824 non-null   object \n",
      " 27  Horror              3824 non-null   object \n",
      " 28  Drama               3824 non-null   object \n",
      " 29  Family              3824 non-null   object \n",
      " 30  nan                 3824 non-null   object \n",
      " 31  Mystery             3824 non-null   object \n",
      " 32  Musical             3824 non-null   object \n",
      " 33  Fantasy             3824 non-null   object \n",
      " 34  Adventure           3824 non-null   object \n",
      " 35  Documentary         3824 non-null   object \n",
      " 36  Thriller            3824 non-null   object \n",
      " 37  Comedy              3824 non-null   object \n",
      " 38  Reality-TV          3824 non-null   object \n",
      " 39  Music               3824 non-null   object \n",
      " 40  History             3824 non-null   object \n",
      " 41  Action              3824 non-null   object \n",
      " 42  Animation           3824 non-null   object \n",
      "dtypes: float64(5), int64(7), object(31)\n",
      "memory usage: 1.3+ MB\n"
     ]
    }
   ],
   "source": [
    "final_merge_df.info()"
   ]
  },
  {
   "cell_type": "code",
   "execution_count": 115,
   "metadata": {},
   "outputs": [],
   "source": [
    "#OK all set lets save this down\n",
    "final_merge_df.to_csv('final_data_nk.csv')"
   ]
  },
  {
   "cell_type": "code",
   "execution_count": null,
   "metadata": {},
   "outputs": [],
   "source": []
  }
 ],
 "metadata": {
  "kernelspec": {
   "display_name": "Python (learn-env)",
   "language": "python",
   "name": "learn-env"
  },
  "language_info": {
   "codemirror_mode": {
    "name": "ipython",
    "version": 3
   },
   "file_extension": ".py",
   "mimetype": "text/x-python",
   "name": "python",
   "nbconvert_exporter": "python",
   "pygments_lexer": "ipython3",
   "version": "3.8.5"
  }
 },
 "nbformat": 4,
 "nbformat_minor": 4
}
